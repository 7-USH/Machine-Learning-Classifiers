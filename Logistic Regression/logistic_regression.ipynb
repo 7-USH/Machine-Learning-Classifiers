{
 "cells": [
  {
   "cell_type": "code",
   "execution_count": 287,
   "metadata": {},
   "outputs": [],
   "source": [
    "import numpy as np\n",
    "import warnings\n",
    "import matplotlib.pyplot as plt\n",
    "warnings.filterwarnings('ignore')\n"
   ]
  },
  {
   "cell_type": "code",
   "execution_count": 288,
   "metadata": {},
   "outputs": [],
   "source": [
    "def sigmoid(x):\n",
    "    return 1/(1+np.exp(-x))"
   ]
  },
  {
   "cell_type": "code",
   "execution_count": 289,
   "metadata": {},
   "outputs": [],
   "source": [
    "class LogisticRegression():\n",
    "\n",
    "    def __init__(self,learning_rate = 0.001,n_iterations = 1000) :\n",
    "        self.learning_rate = learning_rate\n",
    "        self.n_iterations = n_iterations\n",
    "        self.weights = None\n",
    "        self.bias = None\n",
    "        self.Lambda = 2\n",
    "        self.costs = []\n",
    "    \n",
    "    def propogate(self,X,y,isRegularized):\n",
    "        n_samples,_ = X.shape\n",
    "        linear_predictions = np.dot(X,self.weights) + self.bias\n",
    "        a = sigmoid(linear_predictions)\n",
    "        cost = -(1/n_samples)*np.sum(y*np.log(a) + (1-y)*np.log(1-a))\n",
    "        dw = np.dot(X.T, (a - y)) * (1/n_samples)\n",
    "        db = np.sum(a - y) * (1/n_samples)\n",
    "        if isRegularized:\n",
    "            regularization_cost = cost + (self.Lambda / (2*n_samples)) * np.sum(np.square(self.weights))\n",
    "            refactored_dw = dw + (self.Lambda/n_samples) * np.sum(self.weights)\n",
    "            refactored_db = db + (self.Lambda/n_samples) * np.sum(self.bias)\n",
    "            current_grad = {\"dw\" : refactored_dw,\"db\":refactored_db}\n",
    "            return current_grad,regularization_cost\n",
    "        else:\n",
    "            current_grad = {\"dw\" : dw,\"db\":db}\n",
    "            return current_grad,cost\n",
    "\n",
    "    def fit(self,X,y,show_cost,Lambda,isRegularized):\n",
    "        n_features = X.shape[1]\n",
    "        self.weights = np.zeros(n_features)\n",
    "        self.bias = 0\n",
    "        self.Lambda = Lambda\n",
    "\n",
    "        for _ in range(self.n_iterations):\n",
    "            grads,regularization_cost = self.propogate(X,y,isRegularized=isRegularized)\n",
    "            dw = grads[\"dw\"]\n",
    "            db = grads[\"db\"]\n",
    "            self.weights -= self.learning_rate * dw\n",
    "            self.bias  -= self.learning_rate*db\n",
    "            np.squeeze(regularization_cost)\n",
    "            if _ % 100 == 0:\n",
    "                self.costs.append(regularization_cost)\n",
    "                if show_cost and _ % 1000 == 0:\n",
    "                    print(\"cost at iteration {}: {}\".format(_,regularization_cost))\n",
    "\n",
    "    def plotter(self):\n",
    "        plt.plot(np.squeeze(self.costs))\n",
    "        plt.ylabel('Cost')\n",
    "        plt.xlabel('iterations (per tens)')\n",
    "        plt.title(\"Learning rate = \" + str(self.learning_rate))\n",
    "        plt.show()\n",
    "\n",
    "    def predict(self,X) :\n",
    "        linear_predictions = np.dot(X, self.weights) + self.bias\n",
    "        y_predictions = sigmoid(linear_predictions)\n",
    "        class_pred = [0 if y <=0.5 else 1 for y in y_predictions]\n",
    "        return class_pred\n"
   ]
  },
  {
   "cell_type": "code",
   "execution_count": 290,
   "metadata": {},
   "outputs": [],
   "source": [
    "def accuracy(y_pred,y_test):\n",
    "    return np.sum(y_pred == y_test)/len(y_test)"
   ]
  },
  {
   "cell_type": "code",
   "execution_count": 291,
   "metadata": {},
   "outputs": [],
   "source": [
    "from sklearn.model_selection import train_test_split\n",
    "import pandas as pd\n",
    "from sklearn import preprocessing\n",
    "from sklearn.metrics import confusion_matrix\n",
    "import seaborn as sns\n",
    "from sklearn.metrics import classification_report\n"
   ]
  },
  {
   "attachments": {},
   "cell_type": "markdown",
   "metadata": {},
   "source": [
    "## MinMax Scaler\n",
    "\n",
    "$$X_{scaled} = {x - x_{min}\\over x_{max}-x_{min}}$$\n",
    "\n",
    "## Standard Scaler\n",
    "\n",
    "$$X_{scaled} = {{x - μ}\\over s}$$"
   ]
  },
  {
   "cell_type": "code",
   "execution_count": 292,
   "metadata": {},
   "outputs": [],
   "source": [
    "scaler = preprocessing.StandardScaler()"
   ]
  },
  {
   "cell_type": "code",
   "execution_count": 293,
   "metadata": {},
   "outputs": [],
   "source": [
    "df = pd.read_csv(\"heart_disease.csv\")\n",
    "X_df = df.drop( [\"condition\"],axis=1)\n",
    "X_pre = scaler.fit_transform(X_df)\n",
    "X = pd.DataFrame(X_pre, columns=df.columns[:-1])\n",
    "y = df.get(\"condition\")\n"
   ]
  },
  {
   "attachments": {},
   "cell_type": "markdown",
   "metadata": {},
   "source": [
    "# Non Regularized "
   ]
  },
  {
   "cell_type": "code",
   "execution_count": 294,
   "metadata": {},
   "outputs": [
    {
     "name": "stdout",
     "output_type": "stream",
     "text": [
      "cost at iteration 0: 0.6931471805599452\n",
      "cost at iteration 1000: 0.37641215080253504\n",
      "cost at iteration 2000: 0.36899300429218634\n",
      "cost at iteration 3000: 0.3669279779911996\n",
      "cost at iteration 4000: 0.3661109022038258\n",
      "cost at iteration 5000: 0.3657461486067538\n",
      "cost at iteration 6000: 0.36557335302350036\n",
      "cost at iteration 7000: 0.36548860570045905\n",
      "cost at iteration 8000: 0.3654461244890277\n",
      "cost at iteration 9000: 0.36542452386542257\n",
      "cost at iteration 10000: 0.36541343481520516\n",
      "cost at iteration 11000: 0.36540770463168276\n",
      "cost at iteration 12000: 0.3654047300726008\n",
      "cost at iteration 13000: 0.3654031809970952\n",
      "cost at iteration 14000: 0.3654023724271675\n",
      "cost at iteration 15000: 0.36540194968253825\n",
      "cost at iteration 16000: 0.36540172839508894\n",
      "cost at iteration 17000: 0.36540161246054886\n",
      "cost at iteration 18000: 0.3654015516827467\n",
      "cost at iteration 19000: 0.3654015198055689\n"
     ]
    }
   ],
   "source": [
    "X_train, X_test,y_train,y_test = train_test_split(X,y,test_size=0.2,random_state=1234)\n",
    "clf = LogisticRegression(learning_rate=0.01,n_iterations=20000)\n",
    "clf.fit(X_train,y_train,show_cost=True,Lambda=2,isRegularized=False)\n",
    "y_pred = clf.predict(X_test)"
   ]
  },
  {
   "cell_type": "code",
   "execution_count": 295,
   "metadata": {},
   "outputs": [
    {
     "data": {
      "text/plain": [
       "0.8666666666666667"
      ]
     },
     "execution_count": 295,
     "metadata": {},
     "output_type": "execute_result"
    }
   ],
   "source": [
    "accuracy(y_pred,y_test)"
   ]
  },
  {
   "cell_type": "code",
   "execution_count": 296,
   "metadata": {},
   "outputs": [
    {
     "data": {
      "image/png": "[encoded data removed]",
      "text/plain": [
       "<Figure size 432x288 with 1 Axes>"
      ]
     },
     "metadata": {
      "needs_background": "light"
     },
     "output_type": "display_data"
    }
   ],
   "source": [
    "clf.plotter()"
   ]
  },
  {
   "cell_type": "code",
   "execution_count": 297,
   "metadata": {},
   "outputs": [
    {
     "name": "stdout",
     "output_type": "stream",
     "text": [
      "              precision    recall  f1-score   support\n",
      "\n",
      "           0       0.93      0.82      0.87        33\n",
      "           1       0.81      0.93      0.86        27\n",
      "\n",
      "    accuracy                           0.87        60\n",
      "   macro avg       0.87      0.87      0.87        60\n",
      "weighted avg       0.87      0.87      0.87        60\n",
      "\n"
     ]
    }
   ],
   "source": [
    "print(classification_report(y_test, y_pred))\n"
   ]
  },
  {
   "cell_type": "code",
   "execution_count": 298,
   "metadata": {},
   "outputs": [
    {
     "data": {
      "text/plain": [
       "<AxesSubplot:>"
      ]
     },
     "execution_count": 298,
     "metadata": {},
     "output_type": "execute_result"
    },
    {
     "data": {
      "image/png": "[encoded data removed]",
      "text/plain": [
       "<Figure size 432x288 with 2 Axes>"
      ]
     },
     "metadata": {
      "needs_background": "light"
     },
     "output_type": "display_data"
    }
   ],
   "source": [
    "\n",
    "con_matrix = confusion_matrix(y_pred, y_test)\n",
    "sns.heatmap(con_matrix, annot=True)"
   ]
  },
  {
   "attachments": {},
   "cell_type": "markdown",
   "metadata": {},
   "source": [
    "# Regularized (L2 Technique) "
   ]
  },
  {
   "cell_type": "code",
   "execution_count": 299,
   "metadata": {},
   "outputs": [
    {
     "name": "stdout",
     "output_type": "stream",
     "text": [
      "cost at iteration 0: 0.6931471805599452\n",
      "cost at iteration 1000: 0.3925333043249824\n",
      "cost at iteration 2000: 0.3887532963840502\n",
      "cost at iteration 3000: 0.3887573639761805\n",
      "cost at iteration 4000: 0.3892072076162591\n",
      "cost at iteration 5000: 0.3896217892235233\n",
      "cost at iteration 6000: 0.38992837520265433\n",
      "cost at iteration 7000: 0.39013894516670816\n",
      "cost at iteration 8000: 0.3902789357787007\n",
      "cost at iteration 9000: 0.3903705355815102\n",
      "cost at iteration 10000: 0.3904300027744729\n",
      "cost at iteration 11000: 0.39046847358894005\n",
      "cost at iteration 12000: 0.39049333607252906\n",
      "cost at iteration 13000: 0.39050941180223236\n",
      "cost at iteration 14000: 0.39051982078174485\n",
      "cost at iteration 15000: 0.39052657376479366\n",
      "cost at iteration 16000: 0.3905309648133956\n",
      "cost at iteration 17000: 0.3905338269574595\n",
      "cost at iteration 18000: 0.3905356971390731\n",
      "cost at iteration 19000: 0.3905369221257844\n"
     ]
    }
   ],
   "source": [
    "clf_reg = LogisticRegression(learning_rate=0.01, n_iterations=20000)\n",
    "clf_reg.fit(X_train, y_train, show_cost=True, Lambda=2, isRegularized=True)\n",
    "y_pred_reg = clf_reg.predict(X_test)\n"
   ]
  },
  {
   "cell_type": "code",
   "execution_count": 300,
   "metadata": {},
   "outputs": [
    {
     "data": {
      "text/plain": [
       "0.9166666666666666"
      ]
     },
     "execution_count": 300,
     "metadata": {},
     "output_type": "execute_result"
    }
   ],
   "source": [
    "accuracy(y_pred_reg, y_test)\n"
   ]
  },
  {
   "cell_type": "code",
   "execution_count": 301,
   "metadata": {},
   "outputs": [
    {
     "data": {
      "image/png": "[encoded data removed]",
      "text/plain": [
       "<Figure size 432x288 with 1 Axes>"
      ]
     },
     "metadata": {
      "needs_background": "light"
     },
     "output_type": "display_data"
    }
   ],
   "source": [
    "clf_reg.plotter()\n"
   ]
  },
  {
   "cell_type": "code",
   "execution_count": 302,
   "metadata": {},
   "outputs": [
    {
     "name": "stdout",
     "output_type": "stream",
     "text": [
      "              precision    recall  f1-score   support\n",
      "\n",
      "           0       0.94      0.91      0.92        33\n",
      "           1       0.89      0.93      0.91        27\n",
      "\n",
      "    accuracy                           0.92        60\n",
      "   macro avg       0.92      0.92      0.92        60\n",
      "weighted avg       0.92      0.92      0.92        60\n",
      "\n"
     ]
    }
   ],
   "source": [
    "print(classification_report(y_test, y_pred_reg))\n"
   ]
  },
  {
   "cell_type": "code",
   "execution_count": 303,
   "metadata": {},
   "outputs": [
    {
     "data": {
      "text/plain": [
       "<AxesSubplot:>"
      ]
     },
     "execution_count": 303,
     "metadata": {},
     "output_type": "execute_result"
    },
    {
     "data": {
      "image/png": "[encoded data removed]",
      "text/plain": [
       "<Figure size 432x288 with 2 Axes>"
      ]
     },
     "metadata": {
      "needs_background": "light"
     },
     "output_type": "display_data"
    }
   ],
   "source": [
    "con_matrix = confusion_matrix(y_pred_reg, y_test)\n",
    "sns.heatmap(con_matrix, annot=True)\n"
   ]
  },
  {
   "attachments": {},
   "cell_type": "markdown",
   "metadata": {},
   "source": [
    "## Sklearn Logistic Regression"
   ]
  },
  {
   "cell_type": "code",
   "execution_count": 326,
   "metadata": {},
   "outputs": [],
   "source": [
    "from sklearn.linear_model import LogisticRegression as LR\n",
    "from sklearn.linear_model._logistic import _logistic_loss\n"
   ]
  },
  {
   "cell_type": "code",
   "execution_count": 321,
   "metadata": {},
   "outputs": [],
   "source": [
    "logClf = LR(penalty='none')\n",
    "logClf.fit(X_train, y_train)\n",
    "logPred = logClf.predict(X_test)\n"
   ]
  },
  {
   "cell_type": "code",
   "execution_count": 320,
   "metadata": {},
   "outputs": [
    {
     "data": {
      "text/plain": [
       "0.8666666666666667"
      ]
     },
     "execution_count": 320,
     "metadata": {},
     "output_type": "execute_result"
    }
   ],
   "source": [
    "accuracy(logPred,y_test)"
   ]
  },
  {
   "cell_type": "code",
   "execution_count": 323,
   "metadata": {},
   "outputs": [
    {
     "name": "stdout",
     "output_type": "stream",
     "text": [
      "              precision    recall  f1-score   support\n",
      "\n",
      "           0       0.91      1.00      0.95        29\n",
      "           1       1.00      0.90      0.95        31\n",
      "\n",
      "    accuracy                           0.95        60\n",
      "   macro avg       0.95      0.95      0.95        60\n",
      "weighted avg       0.95      0.95      0.95        60\n",
      "\n"
     ]
    }
   ],
   "source": [
    "print(classification_report(logPred, y_pred_reg))\n"
   ]
  },
  {
   "cell_type": "code",
   "execution_count": 324,
   "metadata": {},
   "outputs": [
    {
     "data": {
      "text/plain": [
       "<AxesSubplot:>"
      ]
     },
     "execution_count": 324,
     "metadata": {},
     "output_type": "execute_result"
    },
    {
     "data": {
      "image/png": "[encoded data removed]",
      "text/plain": [
       "<Figure size 432x288 with 2 Axes>"
      ]
     },
     "metadata": {
      "needs_background": "light"
     },
     "output_type": "display_data"
    }
   ],
   "source": [
    "con_matrix = confusion_matrix(logPred, y_test)\n",
    "sns.heatmap(con_matrix, annot=True)\n"
   ]
  }
 ],
 "metadata": {
  "kernelspec": {
   "display_name": "Python 3",
   "language": "python",
   "name": "python3"
  },
  "language_info": {
   "codemirror_mode": {
    "name": "ipython",
    "version": 3
   },
   "file_extension": ".py",
   "mimetype": "text/x-python",
   "name": "python",
   "nbconvert_exporter": "python",
   "pygments_lexer": "ipython3",
   "version": "3.9.9"
  },
  "orig_nbformat": 4
 },
 "nbformat": 4,
 "nbformat_minor": 2
}

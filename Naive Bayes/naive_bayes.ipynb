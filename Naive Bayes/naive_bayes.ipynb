{
 "cells": [
  {
   "cell_type": "code",
   "execution_count": 1,
   "metadata": {},
   "outputs": [],
   "source": [
    "import numpy as np\n",
    "import pandas as pd\n",
    "from sklearn.model_selection import train_test_split\n"
   ]
  },
  {
   "cell_type": "code",
   "execution_count": 2,
   "metadata": {},
   "outputs": [],
   "source": [
    "mushroom_data = pd.read_csv(\"1.csv\")\n",
    "X_mush, y_mush = mushroom_data.drop(columns=[\"class\"]), mushroom_data[\"class\"]\n"
   ]
  },
  {
   "cell_type": "code",
   "execution_count": 3,
   "metadata": {},
   "outputs": [],
   "source": [
    "X_train, X_test, y_train, y_test = train_test_split(X_mush,y_mush,test_size=0.2,random_state=1234)"
   ]
  },
  {
   "cell_type": "code",
   "execution_count": 4,
   "metadata": {},
   "outputs": [],
   "source": [
    "def normal_prob(mean, sd, feature):\n",
    "    return 1/(np.sqrt(2*np.pi)*sd)*np.exp(-np.square(feature-mean)/(2*sd**2))\n"
   ]
  },
  {
   "cell_type": "code",
   "execution_count": 5,
   "metadata": {},
   "outputs": [],
   "source": [
    "class NB:\n",
    "    def __init__(self, X, y):\n",
    "        self.X_train = X\n",
    "        self.y_train = y\n",
    "\n",
    "    def predict_class(self, x):\n",
    "        num = None\n",
    "        max_num = 0\n",
    "        for y in set(self.y_train):\n",
    "            p_y = self.y_train.value_counts()[y]/len(self.y_train)\n",
    "            p_xy = 1\n",
    "            for col in self.X_train.columns:\n",
    "                if col in self.X_train._get_numeric_data().columns:\n",
    "                    p_xy = p_xy * normal_prob(self.X_train[col][self.y_train == y].mean(\n",
    "                        ), np.sqrt(self.X_train[col][self.y_train == y].var()), x[col])\n",
    "                else:\n",
    "                    p_xy = p_xy * len(self.X_train[self.X_train[col] == x[col]][self.y_train == y]) / len(\n",
    "                        self.X_train[self.y_train == y])\n",
    "            if p_y * p_xy > max_num:\n",
    "                max_num = p_y * p_xy\n",
    "                num = y\n",
    "        return num\n",
    "\n",
    "    def predict(self, test):\n",
    "        return test.apply(self.predict_class, axis=1)\n"
   ]
  },
  {
   "cell_type": "code",
   "execution_count": 6,
   "metadata": {},
   "outputs": [
    {
     "name": "stderr",
     "output_type": "stream",
     "text": [
      "C:\\Users\\user\\AppData\\Local\\Temp\\ipykernel_17848\\2485740554.py:17: UserWarning: Boolean Series key will be reindexed to match DataFrame index.\n",
      "  p_xy = p_xy * len(self.X_train[self.X_train[col] == x[col]][self.y_train == y]) / len(\n"
     ]
    }
   ],
   "source": [
    "clf = NB(X_train,y_train)\n",
    "predictions = clf.predict(X_test)"
   ]
  },
  {
   "cell_type": "code",
   "execution_count": 7,
   "metadata": {},
   "outputs": [
    {
     "data": {
      "text/plain": [
       "0.9950769230769231"
      ]
     },
     "execution_count": 7,
     "metadata": {},
     "output_type": "execute_result"
    }
   ],
   "source": [
    "accuracy = np.sum(predictions == y_test) / len(y_test)\n",
    "accuracy\n"
   ]
  },
  {
   "cell_type": "code",
   "execution_count": 8,
   "metadata": {},
   "outputs": [
    {
     "name": "stdout",
     "output_type": "stream",
     "text": [
      "[[811   2]\n",
      " [  6 806]]\n"
     ]
    },
    {
     "data": {
      "text/plain": [
       "<AxesSubplot:>"
      ]
     },
     "execution_count": 8,
     "metadata": {},
     "output_type": "execute_result"
    },
    {
     "data": {
      "image/png": "[encoded data removed]",
      "text/plain": [
       "<Figure size 432x288 with 2 Axes>"
      ]
     },
     "metadata": {
      "needs_background": "light"
     },
     "output_type": "display_data"
    }
   ],
   "source": [
    "from sklearn.metrics import confusion_matrix\n",
    "import seaborn as sns\n",
    "con_matrix = confusion_matrix(predictions,y_test)\n",
    "print(con_matrix)\n",
    "sns.heatmap(con_matrix,annot=True)"
   ]
  },
  {
   "cell_type": "code",
   "execution_count": null,
   "metadata": {},
   "outputs": [],
   "source": []
  }
 ],
 "metadata": {
  "kernelspec": {
   "display_name": "Python 3",
   "language": "python",
   "name": "python3"
  },
  "language_info": {
   "codemirror_mode": {
    "name": "ipython",
    "version": 3
   },
   "file_extension": ".py",
   "mimetype": "text/x-python",
   "name": "python",
   "nbconvert_exporter": "python",
   "pygments_lexer": "ipython3",
   "version": "3.9.9"
  },
  "orig_nbformat": 4,
  "vscode": {
   "interpreter": {
    "hash": "82ed002fa2d4956f5c6aec99bcefe0f73a9f79882f3c9e2319b14958a5896ac5"
   }
  }
 },
 "nbformat": 4,
 "nbformat_minor": 2
}

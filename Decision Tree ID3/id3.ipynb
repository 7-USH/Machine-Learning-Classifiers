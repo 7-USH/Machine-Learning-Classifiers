{
 "cells": [
  {
   "cell_type": "code",
   "execution_count": 2,
   "metadata": {},
   "outputs": [],
   "source": [
    "import numpy as np\n",
    "import pandas as pd\n",
    "import seaborn as sns\n",
    "import matplotlib.pyplot as pyplot\n",
    "import random \n",
    "from pprint import pprint\n",
    "import pydotplus\n",
    "import graphviz"
   ]
  },
  {
   "attachments": {},
   "cell_type": "markdown",
   "metadata": {},
   "source": [
    "# Interchange last column with label column"
   ]
  },
  {
   "cell_type": "code",
   "execution_count": 3,
   "metadata": {},
   "outputs": [],
   "source": [
    "df = pd.read_csv(\"1.csv\")\n",
    "# Adding Noise\n",
    "# for i in np.random.randint(0, df.shape[0], 1000):\n",
    "#     df['class'][i] = np.random.choice(list(set(df['class'])))\n",
    "df = df.rename(columns={\"class\": \"label\"})\n",
    "first_column = df.pop(\"label\")\n",
    "df.insert(len(df.columns),'label',first_column)\n",
    "\n"
   ]
  },
  {
   "attachments": {},
   "cell_type": "markdown",
   "metadata": {},
   "source": [
    "# Removed '?' by mode value"
   ]
  },
  {
   "cell_type": "code",
   "execution_count": 4,
   "metadata": {},
   "outputs": [],
   "source": [
    "mean_of_stalkroot = df[\"stalk-root\"].mode()[0]\n",
    "df[\"stalk-root\"] = df[\"stalk-root\"].replace(\"?\",mean_of_stalkroot)"
   ]
  },
  {
   "cell_type": "code",
   "execution_count": 5,
   "metadata": {},
   "outputs": [],
   "source": [
    "def train_test_split(df, test_size):\n",
    "\n",
    "    if isinstance(test_size, float):\n",
    "        test_size = round(test_size * len(df))\n",
    "\n",
    "    indices = df.index.tolist()\n",
    "    test_indices = random.sample(population=indices, k=test_size)\n",
    "\n",
    "    test_df = df.loc[test_indices]\n",
    "    train_df = df.drop(test_indices)\n",
    "\n",
    "    return train_df, test_df\n"
   ]
  },
  {
   "cell_type": "code",
   "execution_count": 6,
   "metadata": {},
   "outputs": [],
   "source": [
    "\n",
    "train_df, test_df = train_test_split(df=df,test_size=0.2)\n"
   ]
  },
  {
   "cell_type": "code",
   "execution_count": 7,
   "metadata": {},
   "outputs": [
    {
     "name": "stdout",
     "output_type": "stream",
     "text": [
      "<class 'pandas.core.frame.DataFrame'>\n",
      "Int64Index: 6499 entries, 0 to 8123\n",
      "Data columns (total 23 columns):\n",
      " #   Column                    Non-Null Count  Dtype \n",
      "---  ------                    --------------  ----- \n",
      " 0   cap-shape                 6499 non-null   object\n",
      " 1   cap-surface               6499 non-null   object\n",
      " 2   cap-color                 6499 non-null   object\n",
      " 3   bruises                   6499 non-null   object\n",
      " 4   odor                      6499 non-null   object\n",
      " 5   gill-attachment           6499 non-null   object\n",
      " 6   gill-spacing              6499 non-null   object\n",
      " 7   gill-size                 6499 non-null   object\n",
      " 8   gill-color                6499 non-null   object\n",
      " 9   stalk-shape               6499 non-null   object\n",
      " 10  stalk-root                6499 non-null   object\n",
      " 11  stalk-surface-above-ring  6499 non-null   object\n",
      " 12  stalk-surface-below-ring  6499 non-null   object\n",
      " 13  stalk-color-above-ring    6499 non-null   object\n",
      " 14  stalk-color-below-ring    6499 non-null   object\n",
      " 15  veil-type                 6499 non-null   object\n",
      " 16  veil-color                6499 non-null   object\n",
      " 17  ring-number               6499 non-null   object\n",
      " 18  ring-type                 6499 non-null   object\n",
      " 19  spore-print-color         6499 non-null   object\n",
      " 20  population                6499 non-null   object\n",
      " 21  habitat                   6499 non-null   object\n",
      " 22  label                     6499 non-null   object\n",
      "dtypes: object(23)\n",
      "memory usage: 1.2+ MB\n"
     ]
    }
   ],
   "source": [
    "train_df.info()\n",
    "\n",
    "\n"
   ]
  },
  {
   "attachments": {},
   "cell_type": "markdown",
   "metadata": {},
   "source": [
    "# Check purity of our class"
   ]
  },
  {
   "attachments": {},
   "cell_type": "markdown",
   "metadata": {},
   "source": [
    "The first column is our \"class\" column or dependent variable and the rest are label's or independent variables."
   ]
  },
  {
   "cell_type": "code",
   "execution_count": 8,
   "metadata": {},
   "outputs": [],
   "source": [
    "def check_purity(data):\n",
    "    label_columns = data[:,-1]\n",
    "    unique_classes = np.unique(label_columns)\n",
    "    if len(unique_classes) == 1:\n",
    "        return True\n",
    "    else:\n",
    "        return False"
   ]
  },
  {
   "cell_type": "code",
   "execution_count": 9,
   "metadata": {},
   "outputs": [],
   "source": [
    "def classify_data(data):\n",
    "    label_columns = data[:,-1]\n",
    "    unique_classes, count_unique_classes = np.unique(label_columns,return_counts=True)\n",
    "    index = count_unique_classes.argmax()\n",
    "    return unique_classes[index]\n"
   ]
  },
  {
   "attachments": {},
   "cell_type": "markdown",
   "metadata": {},
   "source": [
    "# Potential splits "
   ]
  },
  {
   "cell_type": "code",
   "execution_count": 10,
   "metadata": {},
   "outputs": [],
   "source": [
    "def get_potential_splits(data):\n",
    "    potential_splits = {}\n",
    "    _, n_columns = data.shape\n",
    "    for column_index in range(n_columns-1):\n",
    "        values = data[:, column_index]\n",
    "        unique_values = np.unique(values)\n",
    "        if len(unique_values) > 1:\n",
    "            potential_splits[column_index] = unique_values\n",
    "    return potential_splits\n"
   ]
  },
  {
   "cell_type": "code",
   "execution_count": 11,
   "metadata": {},
   "outputs": [],
   "source": [
    "def split_data(data, split_column, split_value):\n",
    "    split_column_values = data[:, split_column]\n",
    "    data_below = data[split_column_values == split_value]\n",
    "    data_above = data[split_column_values != split_value]\n",
    "    return data_below, data_above\n"
   ]
  },
  {
   "cell_type": "code",
   "execution_count": 12,
   "metadata": {},
   "outputs": [
    {
     "data": {
      "text/plain": [
       "(array([], shape=(0, 23), dtype=object),\n",
       " array([['x', 's', 'n', ..., 's', 'u', 'p'],\n",
       "        ['x', 's', 'y', ..., 'n', 'g', 'e'],\n",
       "        ['b', 's', 'w', ..., 'n', 'm', 'e'],\n",
       "        ...,\n",
       "        ['f', 's', 'n', ..., 'c', 'l', 'e'],\n",
       "        ['k', 'y', 'n', ..., 'v', 'l', 'p'],\n",
       "        ['x', 's', 'n', ..., 'c', 'l', 'e']], dtype=object))"
      ]
     },
     "execution_count": 12,
     "metadata": {},
     "output_type": "execute_result"
    }
   ],
   "source": [
    "split_data(train_df.values,1,0.6)"
   ]
  },
  {
   "attachments": {},
   "cell_type": "markdown",
   "metadata": {},
   "source": [
    "# Calculating Entropy "
   ]
  },
  {
   "cell_type": "code",
   "execution_count": 13,
   "metadata": {},
   "outputs": [],
   "source": [
    "def calculate_entropy(data):\n",
    "    label_column = data[:, -1]\n",
    "    _, counts = np.unique(label_column, return_counts=True)\n",
    "    probabilities = counts / counts.sum()\n",
    "    entropy = sum(probabilities * -np.log2(probabilities))\n",
    "    return entropy\n"
   ]
  },
  {
   "cell_type": "code",
   "execution_count": 14,
   "metadata": {},
   "outputs": [],
   "source": [
    "def calculate_overall_entropy(data_below, data_above):\n",
    "    n = len(data_below) + len(data_above)\n",
    "    p_data_below = len(data_below) / n\n",
    "    p_data_above = len(data_above) / n\n",
    "\n",
    "    overall_entropy = (p_data_below * calculate_entropy(data_below)\n",
    "                       + p_data_above * calculate_entropy(data_above))\n",
    "\n",
    "    return overall_entropy\n"
   ]
  },
  {
   "cell_type": "code",
   "execution_count": 15,
   "metadata": {},
   "outputs": [],
   "source": [
    "def determine_best_split(data, potential_splits):\n",
    "    overall_entropy = 9999\n",
    "    for column_index in potential_splits:\n",
    "        for value in potential_splits[column_index]:\n",
    "            data_below, data_above = split_data(\n",
    "                data, split_column=column_index, split_value=value)\n",
    "            current_overall_entropy = calculate_overall_entropy(\n",
    "                data_below, data_above)\n",
    "\n",
    "            if current_overall_entropy <= overall_entropy:\n",
    "                overall_entropy = current_overall_entropy\n",
    "                best_split_column = column_index\n",
    "                best_split_value = value\n",
    "    return best_split_column, best_split_value\n"
   ]
  },
  {
   "attachments": {},
   "cell_type": "markdown",
   "metadata": {},
   "source": [
    "# Decision Tree Algorithm"
   ]
  },
  {
   "cell_type": "code",
   "execution_count": 16,
   "metadata": {},
   "outputs": [],
   "source": [
    "def decision_tree_algorithm(df, counter=0, min_samples=2, max_depth=5):\n",
    "    if counter == 0:\n",
    "        global COLUMN_HEADERS\n",
    "        COLUMN_HEADERS = df.columns\n",
    "        data = df.values\n",
    "    else:\n",
    "        data = df\n",
    "    if (check_purity(data)) or (len(data) < min_samples) or (counter == max_depth):\n",
    "        classification = classify_data(data)\n",
    "        return classification\n",
    "    else:\n",
    "        counter += 1\n",
    "        potential_splits = get_potential_splits(data)\n",
    "        split_column, split_value = determine_best_split(\n",
    "            data, potential_splits)\n",
    "        data_below, data_above = split_data(data, split_column, split_value)\n",
    "        if len(data_below) == 0 or len(data_above) == 0:\n",
    "            classification = classify_data(data)\n",
    "            return classification\n",
    "        feature_name = COLUMN_HEADERS[split_column]\n",
    "        question = \"{} = {}\".format(feature_name, split_value)        \n",
    "        sub_tree = {question: []}\n",
    "        yes_answer = decision_tree_algorithm(\n",
    "            data_below, counter, min_samples, max_depth)\n",
    "        no_answer = decision_tree_algorithm(\n",
    "            data_above, counter, min_samples, max_depth)\n",
    "        if yes_answer == no_answer:\n",
    "            sub_tree = yes_answer\n",
    "        else:\n",
    "            sub_tree[question].append(yes_answer)\n",
    "            sub_tree[question].append(no_answer)\n",
    "        return sub_tree\n"
   ]
  },
  {
   "cell_type": "code",
   "execution_count": 47,
   "metadata": {},
   "outputs": [],
   "source": [
    "tree = decision_tree_algorithm(train_df)\n",
    "pprint(tree)\n"
   ]
  },
  {
   "cell_type": "code",
   "execution_count": 18,
   "metadata": {},
   "outputs": [
    {
     "data": {
      "image/png": "[encoded data removed]",
      "text/plain": [
       "<IPython.core.display.Image object>"
      ]
     },
     "execution_count": 18,
     "metadata": {},
     "output_type": "execute_result"
    }
   ],
   "source": [
    "import pydot\n",
    "from IPython.display import Image\n",
    "\n",
    "\n",
    "def draw(parent_name, child_name):\n",
    "    if not isinstance(child_name,dict):\n",
    "        edge = pydot.Edge(parent_name, child_name)\n",
    "        graph.add_edge(edge)\n",
    "        \n",
    "def visit(node, parent=None):\n",
    "    if isinstance(node,list):\n",
    "        for item in node:\n",
    "            if parent:\n",
    "                draw(parent,item)\n",
    "            if isinstance(item,list) or isinstance(item,dict):\n",
    "                visit(item,parent)\n",
    "    else: \n",
    "        for k, v in node.items():  \n",
    "            if isinstance(v, list):\n",
    "                if parent:\n",
    "                    draw(parent, k)\n",
    "                visit(v, k)\n",
    "            else:\n",
    "                draw(parent, k)\n",
    "                draw(k, (k)+'_'+(v))\n",
    "\n",
    "\n",
    "graph = pydot.Dot(graph_type='digraph')\n",
    "visit(tree)\n",
    "graph.write_png('tree.png')\n",
    "Image(filename='tree.png')\n",
    "\n"
   ]
  },
  {
   "cell_type": "code",
   "execution_count": 19,
   "metadata": {},
   "outputs": [
    {
     "data": {
      "text/plain": [
       "cap-shape                   f\n",
       "cap-surface                 f\n",
       "cap-color                   g\n",
       "bruises                     t\n",
       "odor                        n\n",
       "gill-attachment             f\n",
       "gill-spacing                c\n",
       "gill-size                   b\n",
       "gill-color                  n\n",
       "stalk-shape                 t\n",
       "stalk-root                  b\n",
       "stalk-surface-above-ring    s\n",
       "stalk-surface-below-ring    s\n",
       "stalk-color-above-ring      w\n",
       "stalk-color-below-ring      w\n",
       "veil-type                   p\n",
       "veil-color                  w\n",
       "ring-number                 o\n",
       "ring-type                   p\n",
       "spore-print-color           k\n",
       "population                  y\n",
       "habitat                     d\n",
       "label                       e\n",
       "Name: 2449, dtype: object"
      ]
     },
     "execution_count": 19,
     "metadata": {},
     "output_type": "execute_result"
    }
   ],
   "source": [
    "example = test_df.iloc[5]\n",
    "example\n"
   ]
  },
  {
   "cell_type": "code",
   "execution_count": 20,
   "metadata": {},
   "outputs": [],
   "source": [
    "def classify_example(example, tree):\n",
    "    if not isinstance(tree, dict):\n",
    "        return tree\n",
    "    \n",
    "    question = list(tree.keys())[0]\n",
    "    feature_name, comparison_operator, value = question.split(\" \")\n",
    "    # ask question\n",
    "    \n",
    "    if str(example[feature_name]) == value:\n",
    "        answer = tree[question][0]\n",
    "    else:\n",
    "        answer = tree[question][1]\n",
    "\n",
    "    # base case\n",
    "    if not isinstance(answer, dict):\n",
    "        return answer\n",
    "\n",
    "    # recursive part\n",
    "    else:\n",
    "        residual_tree = answer\n",
    "        return classify_example(example, residual_tree)\n"
   ]
  },
  {
   "cell_type": "code",
   "execution_count": 21,
   "metadata": {},
   "outputs": [
    {
     "data": {
      "text/plain": [
       "'e'"
      ]
     },
     "execution_count": 21,
     "metadata": {},
     "output_type": "execute_result"
    }
   ],
   "source": [
    "classify_example(example=example,tree=tree)\n"
   ]
  },
  {
   "cell_type": "code",
   "execution_count": 22,
   "metadata": {},
   "outputs": [],
   "source": [
    "def make_predictions(df, tree):\n",
    "\n",
    "    if len(df) != 0:\n",
    "        predictions = df.apply(classify_example, args=(tree,), axis=1)\n",
    "    else:\n",
    "        predictions = pd.Series()\n",
    "\n",
    "    return predictions\n"
   ]
  },
  {
   "cell_type": "code",
   "execution_count": 23,
   "metadata": {},
   "outputs": [],
   "source": [
    "def calculate_accuracy(df, tree):\n",
    "    predictions = make_predictions(df, tree)\n",
    "    predictions_correct = predictions == df.label\n",
    "    accuracy = predictions_correct.mean()\n",
    "\n",
    "    return accuracy\n"
   ]
  },
  {
   "cell_type": "code",
   "execution_count": 24,
   "metadata": {},
   "outputs": [
    {
     "data": {
      "text/plain": [
       "100.0"
      ]
     },
     "execution_count": 24,
     "metadata": {},
     "output_type": "execute_result"
    }
   ],
   "source": [
    "calculate_accuracy(test_df, tree)*100\n"
   ]
  },
  {
   "attachments": {},
   "cell_type": "markdown",
   "metadata": {},
   "source": [
    "# Pruning of Decision Tree"
   ]
  },
  {
   "attachments": {},
   "cell_type": "markdown",
   "metadata": {},
   "source": [
    "## 1. Pre Pruning"
   ]
  },
  {
   "cell_type": "code",
   "execution_count": 25,
   "metadata": {},
   "outputs": [],
   "source": [
    "df_train_train, df_train_val = train_test_split(df=train_df, test_size=0.2)\n",
    "train_tree = decision_tree_algorithm(df_train_train)\n"
   ]
  },
  {
   "cell_type": "code",
   "execution_count": 26,
   "metadata": {},
   "outputs": [],
   "source": [
    "def generate_best_accuracy():\n",
    "    x = []\n",
    "    for i in range(1,6):\n",
    "        test_tree = decision_tree_algorithm(df_train_train,max_depth=i)\n",
    "        print(i)\n",
    "        pprint(test_tree)\n",
    "        y = calculate_accuracy(df_train_val,test_tree)\n",
    "        x.append(y)\n",
    "    return x\n",
    "\n",
    "def get_optimimum_depth():\n",
    "    opt_acc = 0.0\n",
    "    depth = 1\n",
    "    while opt_acc != 1.0:\n",
    "        opt_tree = decision_tree_algorithm(df_train_train, max_depth=depth)\n",
    "        opt_acc = calculate_accuracy(df_train_val,opt_tree)\n",
    "        pprint(opt_tree)\n",
    "        depth += 1\n",
    "    return depth\n",
    "\n"
   ]
  },
  {
   "cell_type": "code",
   "execution_count": 27,
   "metadata": {},
   "outputs": [
    {
     "name": "stdout",
     "output_type": "stream",
     "text": [
      "1\n",
      "{'odor = n': ['e', 'p']}\n",
      "2\n",
      "{'odor = n': [{'spore-print-color = r': ['p', 'e']},\n",
      "              {'bruises = t': ['e', 'p']}]}\n",
      "3\n",
      "{'odor = n': [{'spore-print-color = r': ['p',\n",
      "                                         {'stalk-surface-below-ring = y': ['p',\n",
      "                                                                           'e']}]},\n",
      "              {'bruises = t': [{'stalk-root = c': ['e', 'p']}, 'p']}]}\n",
      "4\n",
      "{'odor = n': [{'spore-print-color = r': ['p',\n",
      "                                         {'stalk-surface-below-ring = y': [{'population = y': ['e',\n",
      "                                                                                               'p']},\n",
      "                                                                           {'cap-surface = g': ['p',\n",
      "                                                                                                'e']}]}]},\n",
      "              {'bruises = t': [{'stalk-root = c': ['e',\n",
      "                                                   {'stalk-surface-below-ring = y': ['e',\n",
      "                                                                                     'p']}]},\n",
      "                               'p']}]}\n",
      "5\n",
      "{'odor = n': [{'spore-print-color = r': ['p',\n",
      "                                         {'stalk-surface-below-ring = y': [{'population = y': ['e',\n",
      "                                                                                               'p']},\n",
      "                                                                           {'cap-surface = g': ['p',\n",
      "                                                                                                'e']}]}]},\n",
      "              {'bruises = t': [{'stalk-root = c': ['e',\n",
      "                                                   {'stalk-surface-below-ring = y': ['e',\n",
      "                                                                                     {'habitat = d': ['e',\n",
      "                                                                                                      'p']}]}]},\n",
      "                               'p']}]}\n",
      "{'odor = n': ['e', 'p']}\n",
      "{'odor = n': [{'spore-print-color = r': ['p', 'e']},\n",
      "              {'bruises = t': ['e', 'p']}]}\n",
      "{'odor = n': [{'spore-print-color = r': ['p',\n",
      "                                         {'stalk-surface-below-ring = y': ['p',\n",
      "                                                                           'e']}]},\n",
      "              {'bruises = t': [{'stalk-root = c': ['e', 'p']}, 'p']}]}\n",
      "{'odor = n': [{'spore-print-color = r': ['p',\n",
      "                                         {'stalk-surface-below-ring = y': [{'population = y': ['e',\n",
      "                                                                                               'p']},\n",
      "                                                                           {'cap-surface = g': ['p',\n",
      "                                                                                                'e']}]}]},\n",
      "              {'bruises = t': [{'stalk-root = c': ['e',\n",
      "                                                   {'stalk-surface-below-ring = y': ['e',\n",
      "                                                                                     'p']}]},\n",
      "                               'p']}]}\n",
      "{'odor = n': [{'spore-print-color = r': ['p',\n",
      "                                         {'stalk-surface-below-ring = y': [{'population = y': ['e',\n",
      "                                                                                               'p']},\n",
      "                                                                           {'cap-surface = g': ['p',\n",
      "                                                                                                'e']}]}]},\n",
      "              {'bruises = t': [{'stalk-root = c': ['e',\n",
      "                                                   {'stalk-surface-below-ring = y': ['e',\n",
      "                                                                                     {'habitat = d': ['e',\n",
      "                                                                                                      'p']}]}]},\n",
      "                               'p']}]}\n",
      "{'odor = n': [{'spore-print-color = r': ['p',\n",
      "                                         {'stalk-surface-below-ring = y': [{'population = y': ['e',\n",
      "                                                                                               'p']},\n",
      "                                                                           {'cap-surface = g': ['p',\n",
      "                                                                                                {'gill-size = n': [{'population = c': ['p',\n",
      "                                                                                                                                       'e']},\n",
      "                                                                                                                   'e']}]}]}]},\n",
      "              {'bruises = t': [{'stalk-root = c': ['e',\n",
      "                                                   {'stalk-surface-below-ring = y': ['e',\n",
      "                                                                                     {'habitat = d': ['e',\n",
      "                                                                                                      'p']}]}]},\n",
      "                               'p']}]}\n",
      "The optimimum depth is : 7\n"
     ]
    }
   ],
   "source": [
    "generate_best_accuracy()\n",
    "print(\"The optimimum depth is : \" + str(get_optimimum_depth())) "
   ]
  },
  {
   "attachments": {},
   "cell_type": "markdown",
   "metadata": {},
   "source": [
    "## 2. Post Pruning"
   ]
  },
  {
   "cell_type": "code",
   "execution_count": 28,
   "metadata": {},
   "outputs": [],
   "source": [
    "def filter_df(df, question):\n",
    "    feature, comparison_operator, value = question.split()\n",
    "    df_yes = df[df[feature].astype(str) == value]\n",
    "    df_no = df[df[feature].astype(str) != value]\n",
    "    return df_yes, df_no"
   ]
  },
  {
   "cell_type": "code",
   "execution_count": 29,
   "metadata": {},
   "outputs": [],
   "source": [
    "def determine_leaf(df_train):\n",
    "    return df_train.label.value_counts().index[0]\n"
   ]
  },
  {
   "cell_type": "code",
   "execution_count": 30,
   "metadata": {},
   "outputs": [],
   "source": [
    "def determine_errors(df_val, tree):\n",
    "    predictions = make_predictions(df_val, tree)\n",
    "    actual_values = df_val.label\n",
    "    return sum(predictions != actual_values)\n"
   ]
  },
  {
   "cell_type": "code",
   "execution_count": 31,
   "metadata": {},
   "outputs": [],
   "source": [
    "def pruning_result(tree, df_train, df_val):\n",
    "\n",
    "    leaf = determine_leaf(df_train)\n",
    "    errors_leaf = determine_errors(df_val, leaf)\n",
    "    errors_decision_node = determine_errors(df_val, tree)\n",
    "\n",
    "    if errors_leaf <= errors_decision_node:\n",
    "        return leaf\n",
    "    else:\n",
    "        return tree"
   ]
  },
  {
   "cell_type": "code",
   "execution_count": 32,
   "metadata": {},
   "outputs": [],
   "source": [
    "def post_pruning(tree, df_train, df_val):\n",
    "    question = list(tree.keys())[0]\n",
    "    yes_answer, no_answer = tree[question]\n",
    "    if not isinstance(yes_answer, dict) and not isinstance(no_answer, dict):\n",
    "        return pruning_result(tree, df_train, df_val)\n",
    "    else:\n",
    "        df_train_yes, df_train_no = filter_df(df_train, question)\n",
    "        df_val_yes, df_val_no = filter_df(df_val, question)\n",
    "\n",
    "        if isinstance(yes_answer, dict): \n",
    "            yes_answer = post_pruning(yes_answer, df_train_yes, df_val_yes)\n",
    "\n",
    "        if isinstance(no_answer, dict): \n",
    "            no_answer = post_pruning( no_answer, df_train_no, df_val_no)\n",
    "\n",
    "        tree = {question: [yes_answer, no_answer]}\n",
    "\n",
    "        return pruning_result(tree, df_train, df_val)\n"
   ]
  },
  {
   "cell_type": "code",
   "execution_count": 33,
   "metadata": {},
   "outputs": [],
   "source": [
    "def pruning_result(tree, df_train, df_val):\n",
    "\n",
    "    leaf = determine_leaf(df_train)\n",
    "    errors_leaf = determine_errors(df_val, leaf)\n",
    "    errors_decision_node = determine_errors(df_val, tree)\n",
    "    if errors_leaf <= errors_decision_node:\n",
    "        return leaf\n",
    "    else:\n",
    "        return tree\n"
   ]
  },
  {
   "cell_type": "code",
   "execution_count": 34,
   "metadata": {},
   "outputs": [
    {
     "name": "stdout",
     "output_type": "stream",
     "text": [
      "{'odor = n': [{'spore-print-color = r': ['p',\n",
      "                                         {'stalk-surface-below-ring = y': [{'population = y': ['e',\n",
      "                                                                                               'p']},\n",
      "                                                                           {'cap-surface = g': ['p',\n",
      "                                                                                                'e']}]}]},\n",
      "              {'bruises = t': [{'stalk-root = c': ['e',\n",
      "                                                   {'stalk-surface-below-ring = y': ['e',\n",
      "                                                                                     {'habitat = d': ['e',\n",
      "                                                                                                      'p']}]}]},\n",
      "                               'p']}]}\n"
     ]
    }
   ],
   "source": [
    "pruned_tree = post_pruning(train_tree,df_train=df_train_train,df_val=df_train_val)\n",
    "pprint(pruned_tree)"
   ]
  },
  {
   "cell_type": "code",
   "execution_count": 35,
   "metadata": {},
   "outputs": [
    {
     "name": "stdout",
     "output_type": "stream",
     "text": [
      "5 0.9991796554552912\n",
      "5 0.9983593109105825\n",
      "6 1.0\n",
      "6 0.9983593109105825\n",
      "7 1.0\n",
      "7 1.0\n",
      "8 1.0\n",
      "8 0.9975389663658737\n",
      "9 1.0\n",
      "9 1.0\n"
     ]
    }
   ],
   "source": [
    "metrics = {\"max_depth\": [], \"acc_tree\": [], \"acc_tree_pruned\": []}\n",
    "for n in range(5,10):\n",
    "\n",
    "    df_train, df_test = train_test_split(df, test_size=0.15)\n",
    "    df_train, df_val = train_test_split(df_train, test_size=0.15)\n",
    "    tree = decision_tree_algorithm(\n",
    "        df_train, max_depth=n)\n",
    "    tree_pruned = post_pruning(\n",
    "        tree, df_train, df_val)\n",
    "    metrics[\"max_depth\"].append(n)\n",
    "    metrics[\"acc_tree\"].append(calculate_accuracy(df_test, tree))\n",
    "    print(n,calculate_accuracy(df_test,tree))\n",
    "    metrics[\"acc_tree_pruned\"].append(calculate_accuracy(df_test, tree_pruned))\n",
    "    print(n, calculate_accuracy(df_test, tree_pruned))\n",
    "\n",
    "df_metrics = pd.DataFrame(metrics)\n",
    "df_metrics = df_metrics.set_index(\"max_depth\")\n"
   ]
  },
  {
   "cell_type": "code",
   "execution_count": 36,
   "metadata": {},
   "outputs": [
    {
     "data": {
      "text/plain": [
       "<AxesSubplot:xlabel='max_depth'>"
      ]
     },
     "execution_count": 36,
     "metadata": {},
     "output_type": "execute_result"
    },
    {
     "data": {
      "image/png": "[encoded data removed]",
      "text/plain": [
       "<Figure size 432x288 with 1 Axes>"
      ]
     },
     "metadata": {
      "needs_background": "light"
     },
     "output_type": "display_data"
    }
   ],
   "source": [
    "df_metrics.plot(marker=\"o\")"
   ]
  },
  {
   "cell_type": "code",
   "execution_count": 37,
   "metadata": {},
   "outputs": [],
   "source": [
    "def display_CNF(dt, s=[], d=1):\n",
    "       if dt == str(dt):\n",
    "            ss = \"\"\n",
    "            for i in s:\n",
    "                ss = ss+i\n",
    "            print(ss.strip(\" \"), \"\\b\\b->\",dt)\n",
    "            return\n",
    "       for k in dt.keys():\n",
    "            for i in range(len(dt[k])):\n",
    "               s.append( (\" ~\" if i == 0 else \"\" ) + \"(\"+k.strip()+\") ^ \")\n",
    "               display_CNF(dt[k][i], s,d+1)\n",
    "               del s[len(s)-1]\n"
   ]
  },
  {
   "cell_type": "code",
   "execution_count": 38,
   "metadata": {},
   "outputs": [
    {
     "name": "stdout",
     "output_type": "stream",
     "text": [
      "~(odor = n) ^  ~(spore-print-color = r) -> p\n",
      "~(odor = n) ^ (spore-print-color = r) ^  ~(stalk-surface-below-ring = y) ^  ~(population = y) -> e\n",
      "~(odor = n) ^ (spore-print-color = r) ^  ~(stalk-surface-below-ring = y) ^ (population = y) -> p\n",
      "~(odor = n) ^ (spore-print-color = r) ^ (stalk-surface-below-ring = y) ^  ~(gill-size = n) ^  ~(population = c) -> p\n",
      "~(odor = n) ^ (spore-print-color = r) ^ (stalk-surface-below-ring = y) ^  ~(gill-size = n) ^ (population = c) -> e\n",
      "~(odor = n) ^ (spore-print-color = r) ^ (stalk-surface-below-ring = y) ^ (gill-size = n) -> e\n",
      "(odor = n) ^  ~(bruises = t) ^  ~(stalk-root = c) -> e\n",
      "(odor = n) ^  ~(bruises = t) ^ (stalk-root = c) ^  ~(stalk-surface-below-ring = y) -> e\n",
      "(odor = n) ^  ~(bruises = t) ^ (stalk-root = c) ^ (stalk-surface-below-ring = y) ^  ~(habitat = d) -> e\n",
      "(odor = n) ^  ~(bruises = t) ^ (stalk-root = c) ^ (stalk-surface-below-ring = y) ^ (habitat = d) -> p\n",
      "(odor = n) ^ (bruises = t) -> p\n"
     ]
    }
   ],
   "source": [
    "display_CNF(tree_pruned)\n",
    "# pprint(tree_pruned)\n"
   ]
  },
  {
   "attachments": {},
   "cell_type": "markdown",
   "metadata": {},
   "source": [
    "# Comparison with SkLearn Decision Tree"
   ]
  },
  {
   "cell_type": "code",
   "execution_count": 39,
   "metadata": {},
   "outputs": [],
   "source": [
    "from sklearn import tree \n",
    "from sklearn.preprocessing import OneHotEncoder\n",
    "from sklearn.model_selection import train_test_split\n"
   ]
  },
  {
   "cell_type": "code",
   "execution_count": 40,
   "metadata": {},
   "outputs": [],
   "source": [
    "df2 = pd.read_csv(\"1.csv\")\n",
    "X = df2.drop(columns=['class'])\n",
    "Y = (df2['class'] == 'p').astype(np.int32)\n",
    "X_new = pd.get_dummies(X, drop_first=True) \n"
   ]
  },
  {
   "attachments": {},
   "cell_type": "markdown",
   "metadata": {},
   "source": [
    "## Train Test Split"
   ]
  },
  {
   "cell_type": "code",
   "execution_count": 41,
   "metadata": {},
   "outputs": [
    {
     "data": {
      "text/plain": [
       "DecisionTreeClassifier()"
      ]
     },
     "execution_count": 41,
     "metadata": {},
     "output_type": "execute_result"
    }
   ],
   "source": [
    "X_train, X_test, Y_train, Y_test = train_test_split(X_new, Y, test_size=0.2)\n",
    "dt = tree.DecisionTreeClassifier()\n",
    "dt.fit(X_train, Y_train)\n"
   ]
  },
  {
   "cell_type": "code",
   "execution_count": 42,
   "metadata": {},
   "outputs": [
    {
     "data": {
      "text/plain": [
       "array([0, 1, 1, ..., 0, 0, 1])"
      ]
     },
     "execution_count": 42,
     "metadata": {},
     "output_type": "execute_result"
    }
   ],
   "source": [
    "dt.predict(X_test)"
   ]
  },
  {
   "attachments": {},
   "cell_type": "markdown",
   "metadata": {},
   "source": [
    "## Accuracy"
   ]
  },
  {
   "cell_type": "code",
   "execution_count": 43,
   "metadata": {},
   "outputs": [
    {
     "data": {
      "text/plain": [
       "1.0"
      ]
     },
     "execution_count": 43,
     "metadata": {},
     "output_type": "execute_result"
    }
   ],
   "source": [
    "from sklearn.metrics import accuracy_score\n",
    "accuracy_score(dt.predict(X_test), Y_test)\n"
   ]
  }
 ],
 "metadata": {
  "kernelspec": {
   "display_name": "Python 3",
   "language": "python",
   "name": "python3"
  },
  "language_info": {
   "codemirror_mode": {
    "name": "ipython",
    "version": 3
   },
   "file_extension": ".py",
   "mimetype": "text/x-python",
   "name": "python",
   "nbconvert_exporter": "python",
   "pygments_lexer": "ipython3",
   "version": "3.9.9"
  },
  "orig_nbformat": 4,
  "vscode": {
   "interpreter": {
    "hash": "82ed002fa2d4956f5c6aec99bcefe0f73a9f79882f3c9e2319b14958a5896ac5"
   }
  }
 },
 "nbformat": 4,
 "nbformat_minor": 2
}

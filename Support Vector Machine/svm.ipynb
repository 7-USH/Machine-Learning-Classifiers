{
 "cells": [
  {
   "cell_type": "code",
   "execution_count": 1,
   "metadata": {},
   "outputs": [],
   "source": [
    "import numpy as np\n",
    "import pandas as pd\n",
    "from sklearn.preprocessing import StandardScaler\n",
    "from sklearn.model_selection import train_test_split\n",
    "from sklearn.metrics import accuracy_score\n",
    "import matplotlib.pyplot as plt\n"
   ]
  },
  {
   "cell_type": "code",
   "execution_count": 25,
   "metadata": {},
   "outputs": [],
   "source": [
    "class SVM:\n",
    "    def __init__(self,lr=0.01,epochs=1000,regularization_parameter=0.01) -> None:\n",
    "        self.lr = lr\n",
    "        self.epochs = epochs\n",
    "        self.regularization_parameter = regularization_parameter\n",
    "        self.hinge_loss = []\n",
    "\n",
    "    def fit(self,X,y):\n",
    "        self.r, self.c = X.shape\n",
    "        self.w = np.zeros(self.c)\n",
    "        self.b = 0\n",
    "        for _ in range(self.epochs):\n",
    "            loss = self.update(X, y)\n",
    "            if(_%100 == 0):\n",
    "                print(f\"For Iteration {_}: Loss is {loss}\")\n",
    "\n",
    "    def update(self,X,y):\n",
    "        y_label = np.where(y <= 0,-1,1)\n",
    "        for index, x_i in enumerate(X):\n",
    "                dw = 2 * self.regularization_parameter * self.w if(y_label[index] * (np.dot(x_i, self.w) - self.b) >= 1) else 2 * self.regularization_parameter * self.w - np.dot(x_i, y_label[index]) * self.w - np.dot(x_i, y_label[index])\n",
    "                db = 0 if(y_label[index] * (np.dot(x_i, self.w) - self.b) >= 1) else y_label[index]\n",
    "                self.w -= self.lr * dw\n",
    "                self.b -= self.lr * db\n",
    "        loss = (1/len(y)) * np.sum((np.dot(X,self.w)-self.b) - y_label) ** 2\n",
    "        self.hinge_loss.append(loss)\n",
    "        return loss\n",
    "\n",
    "\n",
    "    def get_hyperplane_value(self,x, w, b, offset):\n",
    "        return (-w[0] * x + b + offset) / w[1]\n",
    "    \n",
    "    \n",
    "    def visualize_svm(self,X,y):\n",
    "        fig = plt.figure()\n",
    "        ax = fig.add_subplot(1, 1, 1)\n",
    "        plt.scatter(X[:, 0], X[:, 1], marker=\"o\", c=y)\n",
    "\n",
    "        x0_1 = np.amin(X[:, 0])\n",
    "        x0_2 = np.amax(X[:, 0])\n",
    "\n",
    "        x1_1 = self.get_hyperplane_value(x0_1, self.w, self.b, 0)\n",
    "        x1_2 = self.get_hyperplane_value(x0_2, self.w, self.b, 0)\n",
    "\n",
    "        x1_1_m = self.get_hyperplane_value(x0_1, self.w, self.b, -1)\n",
    "        x1_2_m = self.get_hyperplane_value(x0_2, self.w, self.b, -1)\n",
    "\n",
    "        x1_1_p = self.get_hyperplane_value(x0_1, self.w, self.b, 1)\n",
    "        x1_2_p = self.get_hyperplane_value(x0_2, self.w, self.b, 1)\n",
    "\n",
    "        ax.plot([x0_1, x0_2], [x1_1, x1_2], \"y--\")\n",
    "        ax.plot([x0_1, x0_2], [x1_1_m, x1_2_m], \"k\")\n",
    "        ax.plot([x0_1, x0_2], [x1_1_p, x1_2_p], \"k\")\n",
    "\n",
    "        x1_min = np.amin(X[:, 1])\n",
    "        x1_max = np.amax(X[:, 1])\n",
    "        ax.set_ylim([x1_min - 3, x1_max + 3])\n",
    "        plt.show()\n",
    "\n",
    "    def predict(self,X):\n",
    "        return np.where(np.sign(np.dot(X,self.w)-self.b) <= -1 , 0,1)\n"
   ]
  },
  {
   "cell_type": "code",
   "execution_count": 3,
   "metadata": {},
   "outputs": [],
   "source": [
    "heart_disease_dataset = pd.read_csv('heart_disease.csv')\n"
   ]
  },
  {
   "cell_type": "code",
   "execution_count": 4,
   "metadata": {},
   "outputs": [
    {
     "data": {
      "text/html": [
       "<div>\n",
       "<style scoped>\n",
       "    .dataframe tbody tr th:only-of-type {\n",
       "        vertical-align: middle;\n",
       "    }\n",
       "\n",
       "    .dataframe tbody tr th {\n",
       "        vertical-align: top;\n",
       "    }\n",
       "\n",
       "    .dataframe thead th {\n",
       "        text-align: right;\n",
       "    }\n",
       "</style>\n",
       "<table border=\"1\" class=\"dataframe\">\n",
       "  <thead>\n",
       "    <tr style=\"text-align: right;\">\n",
       "      <th></th>\n",
       "      <th>age</th>\n",
       "      <th>sex</th>\n",
       "      <th>cp</th>\n",
       "      <th>trestbps</th>\n",
       "      <th>chol</th>\n",
       "      <th>fbs</th>\n",
       "      <th>restecg</th>\n",
       "      <th>thalach</th>\n",
       "      <th>exang</th>\n",
       "      <th>oldpeak</th>\n",
       "      <th>slope</th>\n",
       "      <th>ca</th>\n",
       "      <th>thal</th>\n",
       "      <th>condition</th>\n",
       "    </tr>\n",
       "  </thead>\n",
       "  <tbody>\n",
       "    <tr>\n",
       "      <th>0</th>\n",
       "      <td>69</td>\n",
       "      <td>1</td>\n",
       "      <td>0</td>\n",
       "      <td>160</td>\n",
       "      <td>234</td>\n",
       "      <td>1</td>\n",
       "      <td>2</td>\n",
       "      <td>131</td>\n",
       "      <td>0</td>\n",
       "      <td>0.1</td>\n",
       "      <td>1</td>\n",
       "      <td>1</td>\n",
       "      <td>0</td>\n",
       "      <td>0</td>\n",
       "    </tr>\n",
       "    <tr>\n",
       "      <th>1</th>\n",
       "      <td>69</td>\n",
       "      <td>0</td>\n",
       "      <td>0</td>\n",
       "      <td>140</td>\n",
       "      <td>239</td>\n",
       "      <td>0</td>\n",
       "      <td>0</td>\n",
       "      <td>151</td>\n",
       "      <td>0</td>\n",
       "      <td>1.8</td>\n",
       "      <td>0</td>\n",
       "      <td>2</td>\n",
       "      <td>0</td>\n",
       "      <td>0</td>\n",
       "    </tr>\n",
       "    <tr>\n",
       "      <th>2</th>\n",
       "      <td>66</td>\n",
       "      <td>0</td>\n",
       "      <td>0</td>\n",
       "      <td>150</td>\n",
       "      <td>226</td>\n",
       "      <td>0</td>\n",
       "      <td>0</td>\n",
       "      <td>114</td>\n",
       "      <td>0</td>\n",
       "      <td>2.6</td>\n",
       "      <td>2</td>\n",
       "      <td>0</td>\n",
       "      <td>0</td>\n",
       "      <td>0</td>\n",
       "    </tr>\n",
       "    <tr>\n",
       "      <th>3</th>\n",
       "      <td>65</td>\n",
       "      <td>1</td>\n",
       "      <td>0</td>\n",
       "      <td>138</td>\n",
       "      <td>282</td>\n",
       "      <td>1</td>\n",
       "      <td>2</td>\n",
       "      <td>174</td>\n",
       "      <td>0</td>\n",
       "      <td>1.4</td>\n",
       "      <td>1</td>\n",
       "      <td>1</td>\n",
       "      <td>0</td>\n",
       "      <td>1</td>\n",
       "    </tr>\n",
       "    <tr>\n",
       "      <th>4</th>\n",
       "      <td>64</td>\n",
       "      <td>1</td>\n",
       "      <td>0</td>\n",
       "      <td>110</td>\n",
       "      <td>211</td>\n",
       "      <td>0</td>\n",
       "      <td>2</td>\n",
       "      <td>144</td>\n",
       "      <td>1</td>\n",
       "      <td>1.8</td>\n",
       "      <td>1</td>\n",
       "      <td>0</td>\n",
       "      <td>0</td>\n",
       "      <td>0</td>\n",
       "    </tr>\n",
       "  </tbody>\n",
       "</table>\n",
       "</div>"
      ],
      "text/plain": [
       "   age  sex  cp  trestbps  chol  fbs  restecg  thalach  exang  oldpeak  slope  \\\n",
       "0   69    1   0       160   234    1        2      131      0      0.1      1   \n",
       "1   69    0   0       140   239    0        0      151      0      1.8      0   \n",
       "2   66    0   0       150   226    0        0      114      0      2.6      2   \n",
       "3   65    1   0       138   282    1        2      174      0      1.4      1   \n",
       "4   64    1   0       110   211    0        2      144      1      1.8      1   \n",
       "\n",
       "   ca  thal  condition  \n",
       "0   1     0          0  \n",
       "1   2     0          0  \n",
       "2   0     0          0  \n",
       "3   1     0          1  \n",
       "4   0     0          0  "
      ]
     },
     "execution_count": 4,
     "metadata": {},
     "output_type": "execute_result"
    }
   ],
   "source": [
    "heart_disease_dataset.head()"
   ]
  },
  {
   "cell_type": "code",
   "execution_count": 5,
   "metadata": {},
   "outputs": [
    {
     "data": {
      "text/plain": [
       "(297, 14)"
      ]
     },
     "execution_count": 5,
     "metadata": {},
     "output_type": "execute_result"
    }
   ],
   "source": [
    "heart_disease_dataset.shape"
   ]
  },
  {
   "cell_type": "code",
   "execution_count": 6,
   "metadata": {},
   "outputs": [],
   "source": [
    "X = heart_disease_dataset.drop(columns=\"condition\",axis=1)\n",
    "y = heart_disease_dataset[\"condition\"]"
   ]
  },
  {
   "cell_type": "code",
   "execution_count": 7,
   "metadata": {},
   "outputs": [],
   "source": [
    "scaler = StandardScaler()\n",
    "scaler.fit(X)\n",
    "X = scaler.transform(X)"
   ]
  },
  {
   "cell_type": "code",
   "execution_count": 8,
   "metadata": {},
   "outputs": [],
   "source": [
    "X_train, X_test, y_train, y_test = train_test_split(X,y,test_size=0.2,random_state=2)"
   ]
  },
  {
   "cell_type": "code",
   "execution_count": 29,
   "metadata": {},
   "outputs": [
    {
     "name": "stdout",
     "output_type": "stream",
     "text": [
      "For Iteration 0: Loss is 6.035944781144794\n",
      "For Iteration 100: Loss is 1.1623447811447845\n",
      "For Iteration 200: Loss is 0.3148447811447831\n",
      "For Iteration 300: Loss is 0.5379447811447836\n",
      "For Iteration 400: Loss is 0.8204447811447826\n",
      "For Iteration 500: Loss is 1.1623447811447862\n",
      "For Iteration 600: Loss is 0.8204447811447826\n",
      "For Iteration 700: Loss is 0.5379447811447836\n",
      "For Iteration 800: Loss is 0.820444781144781\n",
      "For Iteration 900: Loss is 1.5636447811447827\n"
     ]
    }
   ],
   "source": [
    "clf = SVM()\n",
    "clf.fit(X,y)"
   ]
  },
  {
   "attachments": {},
   "cell_type": "markdown",
   "metadata": {},
   "source": [
    "## 2D Visualization"
   ]
  },
  {
   "cell_type": "code",
   "execution_count": 10,
   "metadata": {},
   "outputs": [
    {
     "data": {
      "image/png": "[encoded data removed]",
      "text/plain": [
       "<Figure size 432x288 with 1 Axes>"
      ]
     },
     "metadata": {
      "needs_background": "light"
     },
     "output_type": "display_data"
    }
   ],
   "source": [
    "clf.visualize_svm(X,y)"
   ]
  },
  {
   "cell_type": "code",
   "execution_count": 11,
   "metadata": {},
   "outputs": [
    {
     "data": {
      "text/plain": [
       "[<matplotlib.lines.Line2D at 0x2a147981670>]"
      ]
     },
     "execution_count": 11,
     "metadata": {},
     "output_type": "execute_result"
    },
    {
     "data": {
      "image/png": "[encoded data removed]",
      "text/plain": [
       "<Figure size 432x288 with 1 Axes>"
      ]
     },
     "metadata": {
      "needs_background": "light"
     },
     "output_type": "display_data"
    }
   ],
   "source": [
    "plt.plot(clf.hinge_loss, label=\"Hinge Loss\")\n"
   ]
  },
  {
   "cell_type": "code",
   "execution_count": 12,
   "metadata": {},
   "outputs": [
    {
     "name": "stdout",
     "output_type": "stream",
     "text": [
      "Accuracy score of the training data :  0.8565400843881856\n"
     ]
    }
   ],
   "source": [
    "x__train_pred = clf.predict(X_train)\n",
    "print('Accuracy score of the training data : ',accuracy_score(y_train, x__train_pred))\n"
   ]
  },
  {
   "cell_type": "code",
   "execution_count": 13,
   "metadata": {},
   "outputs": [
    {
     "name": "stdout",
     "output_type": "stream",
     "text": [
      "Accuracy score of the testing data :  0.85\n"
     ]
    }
   ],
   "source": [
    "x_test_pred = clf.predict(X_test)\n",
    "print('Accuracy score of the testing data : ', accuracy_score(y_test, x_test_pred))\n"
   ]
  },
  {
   "cell_type": "code",
   "execution_count": 14,
   "metadata": {},
   "outputs": [],
   "source": [
    "transform_kernel = [[1,1],[-1,-1]]"
   ]
  }
 ],
 "metadata": {
  "kernelspec": {
   "display_name": "Python 3",
   "language": "python",
   "name": "python3"
  },
  "language_info": {
   "codemirror_mode": {
    "name": "ipython",
    "version": 3
   },
   "file_extension": ".py",
   "mimetype": "text/x-python",
   "name": "python",
   "nbconvert_exporter": "python",
   "pygments_lexer": "ipython3",
   "version": "3.9.9"
  },
  "orig_nbformat": 4
 },
 "nbformat": 4,
 "nbformat_minor": 2
}
